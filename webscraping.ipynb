{
 "cells": [
  {
   "cell_type": "code",
   "execution_count": 1,
   "id": "17c12b68",
   "metadata": {},
   "outputs": [
    {
     "name": "stdout",
     "output_type": "stream",
     "text": [
      "Scraping TOI India...\n",
      "Scraping TOI World...\n",
      "Scraping TOI Business...\n",
      "Scraping TOI Sports...\n",
      "Scraping Hindu National...\n",
      "Scraping Hindu International...\n",
      "Scraping Hindu Business...\n",
      "Scraping Hindu SciTech...\n",
      "Scraping BBC India...\n",
      "Scraping BBC Asia...\n",
      "Scraping BBC Business...\n",
      "Scraping BBC Tech...\n",
      "✅ Scraping done. Collected 641 articles. File saved as news_dataset_100.csv\n"
     ]
    }
   ],
   "source": [
    "import requests\n",
    "from bs4 import BeautifulSoup\n",
    "import pandas as pd\n",
    "\n",
    "rss_feeds = {\n",
    "    # Times of India\n",
    "    \"TOI India\": \"https://timesofindia.indiatimes.com/rssfeeds/-2128936835.cms\",\n",
    "    \"TOI World\": \"https://timesofindia.indiatimes.com/rssfeeds/296589292.cms\",\n",
    "    \"TOI Business\": \"https://timesofindia.indiatimes.com/rssfeeds/1898055.cms\",\n",
    "    \"TOI Sports\": \"https://timesofindia.indiatimes.com/rssfeeds/4719148.cms\",\n",
    "\n",
    "    # The Hindu\n",
    "    \"Hindu National\": \"https://www.thehindu.com/news/national/feeder/default.rss\",\n",
    "    \"Hindu International\": \"https://www.thehindu.com/news/international/feeder/default.rss\",\n",
    "    \"Hindu Business\": \"https://www.thehindu.com/business/feeder/default.rss\",\n",
    "    \"Hindu SciTech\": \"https://www.thehindu.com/sci-tech/feeder/default.rss\",\n",
    "\n",
    "    # BBC News\n",
    "    \"BBC India\": \"http://feeds.bbci.co.uk/news/world/asia/india/rss.xml\",\n",
    "    \"BBC Asia\": \"http://feeds.bbci.co.uk/news/world/asia/rss.xml\",\n",
    "    \"BBC Business\": \"http://feeds.bbci.co.uk/news/business/rss.xml\",\n",
    "    \"BBC Tech\": \"http://feeds.bbci.co.uk/news/technology/rss.xml\"\n",
    "}\n",
    "\n",
    "data = []\n",
    "sno = 1\n",
    "\n",
    "for site, url in rss_feeds.items():\n",
    "    print(f\"Scraping {site}...\")\n",
    "    response = requests.get(url, headers={\"User-Agent\": \"Mozilla/5.0\"})\n",
    "    if response.status_code == 200:\n",
    "        soup = BeautifulSoup(response.content, features=\"xml\")\n",
    "        items = soup.find_all(\"item\")  # fetch ALL items\n",
    "\n",
    "        for item in items:\n",
    "            title = item.title.text.strip()\n",
    "            link = item.link.text.strip()\n",
    "            category = site.split()[1] if len(site.split()) > 1 else site\n",
    "            data.append([sno, title, site.split()[0], link, category])\n",
    "            sno += 1\n",
    "\n",
    "# Save dataset\n",
    "df = pd.DataFrame(data, columns=[\"S.No\", \"Headline\", \"Source\", \"Link\", \"Category\"])\n",
    "df.to_csv(\"news_dataset_100.csv\", index=False, encoding=\"utf-8-sig\")\n",
    "\n",
    "print(f\"✅ Scraping done. Collected {len(df)} articles. File saved as news_dataset_100.csv\")\n"
   ]
  },
  {
   "cell_type": "code",
   "execution_count": 2,
   "id": "15ee1f8a",
   "metadata": {},
   "outputs": [
    {
     "name": "stdout",
     "output_type": "stream",
     "text": [
      "Collecting numpy<2\n",
      "  Using cached numpy-1.26.4-cp312-cp312-manylinux_2_17_x86_64.manylinux2014_x86_64.whl.metadata (61 kB)\n",
      "Using cached numpy-1.26.4-cp312-cp312-manylinux_2_17_x86_64.manylinux2014_x86_64.whl (18.0 MB)\n",
      "Installing collected packages: numpy\n",
      "  Attempting uninstall: numpy\n",
      "    Found existing installation: numpy 2.3.3\n",
      "    Uninstalling numpy-2.3.3:\n",
      "      Successfully uninstalled numpy-2.3.3\n",
      "\u001b[31mERROR: pip's dependency resolver does not currently take into account all the packages that are installed. This behaviour is the source of the following dependency conflicts.\n",
      "thinc 8.3.6 requires numpy<3.0.0,>=2.0.0, but you have numpy 1.26.4 which is incompatible.\n",
      "basemap 2.0.0 requires numpy<2.4,>=2.0, but you have numpy 1.26.4 which is incompatible.\n",
      "langchain-huggingface 0.1.2 requires tokenizers>=0.19.1, but you have tokenizers 0.15.2 which is incompatible.\n",
      "langchain-huggingface 0.1.2 requires transformers>=4.39.0, but you have transformers 4.38.0 which is incompatible.\u001b[0m\u001b[31m\n",
      "\u001b[0mSuccessfully installed numpy-1.26.4\n",
      "Note: you may need to restart the kernel to use updated packages.\n"
     ]
    }
   ],
   "source": [
    "pip install \"numpy<2\" --force-reinstall\n"
   ]
  },
  {
   "cell_type": "code",
   "execution_count": null,
   "id": "87a8786f",
   "metadata": {},
   "outputs": [],
   "source": []
  }
 ],
 "metadata": {
  "kernelspec": {
   "display_name": "base",
   "language": "python",
   "name": "python3"
  },
  "language_info": {
   "codemirror_mode": {
    "name": "ipython",
    "version": 3
   },
   "file_extension": ".py",
   "mimetype": "text/x-python",
   "name": "python",
   "nbconvert_exporter": "python",
   "pygments_lexer": "ipython3",
   "version": "3.12.7"
  }
 },
 "nbformat": 4,
 "nbformat_minor": 5
}
