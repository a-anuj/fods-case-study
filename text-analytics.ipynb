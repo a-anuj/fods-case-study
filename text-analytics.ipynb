{
 "cells": [
  {
   "cell_type": "code",
   "execution_count": 2,
   "id": "7ecfddfc",
   "metadata": {},
   "outputs": [
    {
     "name": "stderr",
     "output_type": "stream",
     "text": [
      "[nltk_data] Downloading package stopwords to /home/anuj/nltk_data...\n",
      "[nltk_data]   Package stopwords is already up-to-date!\n",
      "[nltk_data] Downloading package punkt to /home/anuj/nltk_data...\n",
      "[nltk_data]   Package punkt is already up-to-date!\n"
     ]
    },
    {
     "data": {
      "image/png": "[encoded data removed]",
      "text/plain": [
       "<Figure size 640x480 with 1 Axes>"
      ]
     },
     "metadata": {},
     "output_type": "display_data"
    },
    {
     "name": "stdout",
     "output_type": "stream",
     "text": [
      "\n",
      "Top Topics:\n",
      "Topic 0: 0.012*\"says\" + 0.006*\"trump\" + 0.004*\"india\" + 0.004*\"visa\" + 0.004*\"would\" + 0.004*\"indias\" + 0.004*\"new\" + 0.004*\"keep\" + 0.003*\"first\" + 0.003*\"war\"\n",
      "Topic 1: 0.013*\"tech\" + 0.008*\"life\" + 0.007*\"india\" + 0.006*\"new\" + 0.006*\"pakistan\" + 0.006*\"trump\" + 0.006*\"cup\" + 0.006*\"asia\" + 0.004*\"report\" + 0.004*\"indias\"\n",
      "Topic 2: 0.010*\"says\" + 0.009*\"india\" + 0.004*\"state\" + 0.004*\"data\" + 0.004*\"drone\" + 0.003*\"big\" + 0.003*\"global\" + 0.003*\"trumps\" + 0.003*\"hit\" + 0.003*\"israel\"\n",
      "Topic 3: 0.012*\"india\" + 0.008*\"new\" + 0.004*\"watch\" + 0.004*\"years\" + 0.004*\"tiktok\" + 0.004*\"says\" + 0.004*\"openai\" + 0.004*\"data\" + 0.003*\"china\" + 0.003*\"first\"\n",
      "Topic 4: 0.009*\"india\" + 0.006*\"says\" + 0.005*\"tiktok\" + 0.005*\"least\" + 0.004*\"crore\" + 0.004*\"minister\" + 0.004*\"trump\" + 0.004*\"court\" + 0.003*\"deal\" + 0.003*\"group\"\n",
      "Analysis done. Results saved in news_text_analysis.csv\n"
     ]
    }
   ],
   "source": [
    "# Dataset used : https://raw.githubusercontent.com/a-anuj/fods-case-study/refs/heads/main/webscraping_dataset.csv\n",
    "\n",
    "import pandas as pd\n",
    "import re\n",
    "import nltk\n",
    "import spacy\n",
    "from nltk.corpus import stopwords\n",
    "from textblob import TextBlob\n",
    "from gensim import corpora, models\n",
    "import matplotlib.pyplot as plt\n",
    "\n",
    "nltk.download('stopwords')\n",
    "nltk.download('punkt')\n",
    "nlp = spacy.load(\"en_core_web_sm\")\n",
    "\n",
    "df = pd.read_csv(\"https://raw.githubusercontent.com/a-anuj/fods-case-study/refs/heads/main/webscraping_dataset.csv\")\n",
    "\n",
    "\n",
    "stop_words = set(stopwords.words(\"english\"))\n",
    "\n",
    "def clean_text(text):\n",
    "    text = str(text).lower()\n",
    "    text = re.sub(r\"http\\S+|www\\S+\", \"\", text)  \n",
    "    text = re.sub(r\"[^a-z\\s]\", \"\", text)       \n",
    "    tokens = nltk.word_tokenize(text)\n",
    "    tokens = [t for t in tokens if t not in stop_words and len(t) > 2]\n",
    "    return \" \".join(tokens)\n",
    "\n",
    "df[\"Cleaned_Text\"] = df[\"Headline\"].apply(clean_text)\n",
    "\n",
    "def get_sentiment(text):\n",
    "    analysis = TextBlob(text)\n",
    "    polarity = analysis.sentiment.polarity\n",
    "    if polarity > 0: \n",
    "        return \"Positive\"\n",
    "    elif polarity < 0: \n",
    "        return \"Negative\"\n",
    "    else: \n",
    "        return \"Neutral\"\n",
    "\n",
    "df[\"Sentiment\"] = df[\"Cleaned_Text\"].apply(get_sentiment)\n",
    "\n",
    "df[\"Sentiment\"].value_counts().plot(kind=\"bar\", title=\"Sentiment Distribution\")\n",
    "plt.show()\n",
    "\n",
    "\n",
    "texts = [t.split() for t in df[\"Cleaned_Text\"] if isinstance(t, str)]\n",
    "dictionary = corpora.Dictionary(texts)\n",
    "corpus = [dictionary.doc2bow(text) for text in texts]\n",
    "\n",
    "lda_model = models.LdaModel(corpus, num_topics=5, id2word=dictionary, passes=10)\n",
    "\n",
    "print(\"\\nTop Topics:\")\n",
    "for idx, topic in lda_model.print_topics(-1):\n",
    "    print(f\"Topic {idx}: {topic}\")\n",
    "\n",
    "\n",
    "df.to_csv(\"news_text_analysis.csv\", index=False, encoding=\"utf-8-sig\")\n",
    "print(\"Analysis done. Results saved in news_text_analysis.csv\")\n"
   ]
  },
  {
   "cell_type": "code",
   "execution_count": null,
   "id": "0fb791b1",
   "metadata": {},
   "outputs": [],
   "source": []
  }
 ],
 "metadata": {
  "kernelspec": {
   "display_name": "base",
   "language": "python",
   "name": "python3"
  },
  "language_info": {
   "codemirror_mode": {
    "name": "ipython",
    "version": 3
   },
   "file_extension": ".py",
   "mimetype": "text/x-python",
   "name": "python",
   "nbconvert_exporter": "python",
   "pygments_lexer": "ipython3",
   "version": "3.12.7"
  }
 },
 "nbformat": 4,
 "nbformat_minor": 5
}
