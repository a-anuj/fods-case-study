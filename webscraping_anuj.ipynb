{
 "cells": [
  {
   "cell_type": "code",
   "execution_count": 15,
   "id": "17c12b68",
   "metadata": {},
   "outputs": [
    {
     "name": "stdout",
     "output_type": "stream",
     "text": [
      "Scraping TOI India...\n",
      "Scraping TOI World...\n",
      "Scraping TOI Business...\n",
      "Scraping TOI Sports...\n",
      "Scraping Hindu National...\n",
      "Scraping Hindu International...\n",
      "Scraping Hindu Business...\n",
      "Scraping Hindu SciTech...\n",
      "Scraping BBC India...\n",
      "Scraping BBC Asia...\n",
      "Scraping BBC Business...\n",
      "Scraping BBC Tech...\n",
      "News scraping done. Collected 637 articles.\n"
     ]
    }
   ],
   "source": [
    "# Generated Dataset Link : https://raw.githubusercontent.com/a-anuj/fods-case-study/refs/heads/main/webscraping_dataset.csv\n",
    "\n",
    "import requests\n",
    "from bs4 import BeautifulSoup\n",
    "import pandas as pd\n",
    "from datetime import datetime\n",
    "\n",
    "rss_feeds = {\n",
    "    # Times of India\n",
    "    \"TOI India\": \"https://timesofindia.indiatimes.com/rssfeeds/-2128936835.cms\",\n",
    "    \"TOI World\": \"https://timesofindia.indiatimes.com/rssfeeds/296589292.cms\",\n",
    "    \"TOI Business\": \"https://timesofindia.indiatimes.com/rssfeeds/1898055.cms\",\n",
    "    \"TOI Sports\": \"https://timesofindia.indiatimes.com/rssfeeds/4719148.cms\",\n",
    "\n",
    "    # The Hindu\n",
    "    \"Hindu National\": \"https://www.thehindu.com/news/national/feeder/default.rss\",\n",
    "    \"Hindu International\": \"https://www.thehindu.com/news/international/feeder/default.rss\",\n",
    "    \"Hindu Business\": \"https://www.thehindu.com/business/feeder/default.rss\",\n",
    "    \"Hindu SciTech\": \"https://www.thehindu.com/sci-tech/feeder/default.rss\",\n",
    "\n",
    "    # BBC News\n",
    "    \"BBC India\": \"http://feeds.bbci.co.uk/news/world/asia/india/rss.xml\",\n",
    "    \"BBC Asia\": \"http://feeds.bbci.co.uk/news/world/asia/rss.xml\",\n",
    "    \"BBC Business\": \"http://feeds.bbci.co.uk/news/business/rss.xml\",\n",
    "    \"BBC Tech\": \"http://feeds.bbci.co.uk/news/technology/rss.xml\"\n",
    "}\n",
    "\n",
    "news_data = []\n",
    "sno = 1\n",
    "\n",
    "for site, url in rss_feeds.items():\n",
    "    print(f\"Scraping {site}...\")\n",
    "    response = requests.get(url, headers={\"User-Agent\": \"Mozilla/5.0\"})\n",
    "    if response.status_code == 200:\n",
    "        soup = BeautifulSoup(response.content, features=\"xml\")\n",
    "        items = soup.find_all(\"item\")\n",
    "        for item in items:\n",
    "            title = item.title.text.strip()\n",
    "            link = item.link.text.strip()\n",
    "            category = site.split()[1] if len(site.split()) > 1 else site\n",
    "            pub_date = item.pubDate.text.strip() if item.pubDate else None\n",
    "            # Convert to datetime if exists\n",
    "            if pub_date:\n",
    "                try:\n",
    "                    pub_date = datetime.strptime(pub_date, \"%a, %d %b %Y %H:%M:%S %Z\")\n",
    "                except:\n",
    "                    pass\n",
    "            news_data.append([sno, title, site.split()[0], link, category, pub_date])\n",
    "            sno += 1\n",
    "\n",
    "news_df = pd.DataFrame(news_data, columns=[\"S.No\", \"Headline\", \"Source\", \"Link\", \"Category\", \"Timestamp\"])\n",
    "news_df.to_csv(\"webscraping_dataset.csv\", index=False, encoding=\"utf-8-sig\")\n",
    "print(f\"News scraping done. Collected {len(news_df)} articles.\")\n",
    "\n"
   ]
  },
  {
   "cell_type": "code",
   "execution_count": 16,
   "id": "c1c1a7a6",
   "metadata": {},
   "outputs": [
    {
     "data": {
      "text/html": [
       "<div>\n",
       "<style scoped>\n",
       "    .dataframe tbody tr th:only-of-type {\n",
       "        vertical-align: middle;\n",
       "    }\n",
       "\n",
       "    .dataframe tbody tr th {\n",
       "        vertical-align: top;\n",
       "    }\n",
       "\n",
       "    .dataframe thead th {\n",
       "        text-align: right;\n",
       "    }\n",
       "</style>\n",
       "<table border=\"1\" class=\"dataframe\">\n",
       "  <thead>\n",
       "    <tr style=\"text-align: right;\">\n",
       "      <th></th>\n",
       "      <th>S.No</th>\n",
       "      <th>Headline</th>\n",
       "      <th>Source</th>\n",
       "      <th>Link</th>\n",
       "      <th>Category</th>\n",
       "      <th>Timestamp</th>\n",
       "    </tr>\n",
       "  </thead>\n",
       "  <tbody>\n",
       "    <tr>\n",
       "      <th>0</th>\n",
       "      <td>1</td>\n",
       "      <td>'If Operation Sindoor was ongoing ... ': Congr...</td>\n",
       "      <td>TOI</td>\n",
       "      <td>https://timesofindia.indiatimes.com/india/if-o...</td>\n",
       "      <td>India</td>\n",
       "      <td>2025-09-29T10:30:49+05:30</td>\n",
       "    </tr>\n",
       "    <tr>\n",
       "      <th>1</th>\n",
       "      <td>2</td>\n",
       "      <td>Karur stampede: Rahul Gandhi dials Vijay; offe...</td>\n",
       "      <td>TOI</td>\n",
       "      <td>https://timesofindia.indiatimes.com/india/karu...</td>\n",
       "      <td>India</td>\n",
       "      <td>2025-09-29T10:24:38+05:30</td>\n",
       "    </tr>\n",
       "    <tr>\n",
       "      <th>2</th>\n",
       "      <td>3</td>\n",
       "      <td>HIV jab for 115 nations rests on Indian regula...</td>\n",
       "      <td>TOI</td>\n",
       "      <td>https://timesofindia.indiatimes.com/india/hiv-...</td>\n",
       "      <td>India</td>\n",
       "      <td>2025-09-29T05:17:52+05:30</td>\n",
       "    </tr>\n",
       "    <tr>\n",
       "      <th>3</th>\n",
       "      <td>4</td>\n",
       "      <td>Illegal betting: ED may attach assets of celebs</td>\n",
       "      <td>TOI</td>\n",
       "      <td>https://timesofindia.indiatimes.com/india/ille...</td>\n",
       "      <td>India</td>\n",
       "      <td>2025-09-29T04:19:59+05:30</td>\n",
       "    </tr>\n",
       "    <tr>\n",
       "      <th>4</th>\n",
       "      <td>5</td>\n",
       "      <td>Cancer cases in India up by 26%, deaths 21% si...</td>\n",
       "      <td>TOI</td>\n",
       "      <td>https://timesofindia.indiatimes.com/india/canc...</td>\n",
       "      <td>India</td>\n",
       "      <td>2025-09-29T04:12:26+05:30</td>\n",
       "    </tr>\n",
       "  </tbody>\n",
       "</table>\n",
       "</div>"
      ],
      "text/plain": [
       "   S.No                                           Headline Source  \\\n",
       "0     1  'If Operation Sindoor was ongoing ... ': Congr...    TOI   \n",
       "1     2  Karur stampede: Rahul Gandhi dials Vijay; offe...    TOI   \n",
       "2     3  HIV jab for 115 nations rests on Indian regula...    TOI   \n",
       "3     4    Illegal betting: ED may attach assets of celebs    TOI   \n",
       "4     5  Cancer cases in India up by 26%, deaths 21% si...    TOI   \n",
       "\n",
       "                                                Link Category  \\\n",
       "0  https://timesofindia.indiatimes.com/india/if-o...    India   \n",
       "1  https://timesofindia.indiatimes.com/india/karu...    India   \n",
       "2  https://timesofindia.indiatimes.com/india/hiv-...    India   \n",
       "3  https://timesofindia.indiatimes.com/india/ille...    India   \n",
       "4  https://timesofindia.indiatimes.com/india/canc...    India   \n",
       "\n",
       "                   Timestamp  \n",
       "0  2025-09-29T10:30:49+05:30  \n",
       "1  2025-09-29T10:24:38+05:30  \n",
       "2  2025-09-29T05:17:52+05:30  \n",
       "3  2025-09-29T04:19:59+05:30  \n",
       "4  2025-09-29T04:12:26+05:30  "
      ]
     },
     "execution_count": 16,
     "metadata": {},
     "output_type": "execute_result"
    }
   ],
   "source": [
    "news_df.head()"
   ]
  },
  {
   "cell_type": "code",
   "execution_count": 17,
   "id": "3d0f1177",
   "metadata": {},
   "outputs": [
    {
     "name": "stdout",
     "output_type": "stream",
     "text": [
      "Number of rows :  637\n",
      "Number of features :  6\n"
     ]
    }
   ],
   "source": [
    "print(\"Number of rows : \",news_df.shape[0])\n",
    "print(\"Number of features : \",news_df.shape[1])"
   ]
  },
  {
   "cell_type": "code",
   "execution_count": null,
   "id": "92b8b53d",
   "metadata": {},
   "outputs": [],
   "source": []
  },
  {
   "cell_type": "code",
   "execution_count": null,
   "id": "70ab353f",
   "metadata": {},
   "outputs": [],
   "source": []
  },
  {
   "cell_type": "code",
   "execution_count": null,
   "id": "86369411",
   "metadata": {},
   "outputs": [],
   "source": []
  },
  {
   "cell_type": "code",
   "execution_count": null,
   "id": "44fe7851",
   "metadata": {},
   "outputs": [],
   "source": []
  },
  {
   "cell_type": "code",
   "execution_count": null,
   "id": "87a8786f",
   "metadata": {},
   "outputs": [],
   "source": []
  }
 ],
 "metadata": {
  "kernelspec": {
   "display_name": "base",
   "language": "python",
   "name": "python3"
  },
  "language_info": {
   "codemirror_mode": {
    "name": "ipython",
    "version": 3
   },
   "file_extension": ".py",
   "mimetype": "text/x-python",
   "name": "python",
   "nbconvert_exporter": "python",
   "pygments_lexer": "ipython3",
   "version": "3.12.7"
  }
 },
 "nbformat": 4,
 "nbformat_minor": 5
}
