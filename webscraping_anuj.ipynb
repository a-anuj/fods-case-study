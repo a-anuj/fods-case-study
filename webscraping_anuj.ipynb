{
 "cells": [
  {
   "cell_type": "code",
   "execution_count": 3,
   "id": "17c12b68",
   "metadata": {},
   "outputs": [
    {
     "name": "stdout",
     "output_type": "stream",
     "text": [
      "Scraping TOI India...\n",
      "Scraping TOI World...\n",
      "Scraping TOI Business...\n",
      "Scraping TOI Sports...\n",
      "Scraping Hindu National...\n",
      "Scraping Hindu International...\n",
      "Scraping Hindu Business...\n",
      "Scraping Hindu SciTech...\n",
      "Scraping BBC India...\n",
      "Scraping BBC Asia...\n",
      "Scraping BBC Business...\n",
      "Scraping BBC Tech...\n",
      "News scraping done. Collected 637 articles.\n"
     ]
    }
   ],
   "source": [
    "import requests\n",
    "from bs4 import BeautifulSoup\n",
    "import pandas as pd\n",
    "import subprocess\n",
    "import json\n",
    "from datetime import datetime\n",
    "\n",
    "# ----------- 1. Scrape RSS feeds (News Articles) -----------\n",
    "rss_feeds = {\n",
    "    # Times of India\n",
    "    \"TOI India\": \"https://timesofindia.indiatimes.com/rssfeeds/-2128936835.cms\",\n",
    "    \"TOI World\": \"https://timesofindia.indiatimes.com/rssfeeds/296589292.cms\",\n",
    "    \"TOI Business\": \"https://timesofindia.indiatimes.com/rssfeeds/1898055.cms\",\n",
    "    \"TOI Sports\": \"https://timesofindia.indiatimes.com/rssfeeds/4719148.cms\",\n",
    "\n",
    "    # The Hindu\n",
    "    \"Hindu National\": \"https://www.thehindu.com/news/national/feeder/default.rss\",\n",
    "    \"Hindu International\": \"https://www.thehindu.com/news/international/feeder/default.rss\",\n",
    "    \"Hindu Business\": \"https://www.thehindu.com/business/feeder/default.rss\",\n",
    "    \"Hindu SciTech\": \"https://www.thehindu.com/sci-tech/feeder/default.rss\",\n",
    "\n",
    "    # BBC News\n",
    "    \"BBC India\": \"http://feeds.bbci.co.uk/news/world/asia/india/rss.xml\",\n",
    "    \"BBC Asia\": \"http://feeds.bbci.co.uk/news/world/asia/rss.xml\",\n",
    "    \"BBC Business\": \"http://feeds.bbci.co.uk/news/business/rss.xml\",\n",
    "    \"BBC Tech\": \"http://feeds.bbci.co.uk/news/technology/rss.xml\"\n",
    "}\n",
    "\n",
    "news_data = []\n",
    "sno = 1\n",
    "\n",
    "for site, url in rss_feeds.items():\n",
    "    print(f\"Scraping {site}...\")\n",
    "    response = requests.get(url, headers={\"User-Agent\": \"Mozilla/5.0\"})\n",
    "    if response.status_code == 200:\n",
    "        soup = BeautifulSoup(response.content, features=\"xml\")\n",
    "        items = soup.find_all(\"item\")\n",
    "        for item in items:\n",
    "            title = item.title.text.strip()\n",
    "            link = item.link.text.strip()\n",
    "            category = site.split()[1] if len(site.split()) > 1 else site\n",
    "            pub_date = item.pubDate.text.strip() if item.pubDate else None\n",
    "            # Convert to datetime if exists\n",
    "            if pub_date:\n",
    "                try:\n",
    "                    pub_date = datetime.strptime(pub_date, \"%a, %d %b %Y %H:%M:%S %Z\")\n",
    "                except:\n",
    "                    pass\n",
    "            news_data.append([sno, title, site.split()[0], link, category, pub_date])\n",
    "            sno += 1\n",
    "\n",
    "news_df = pd.DataFrame(news_data, columns=[\"S.No\", \"Headline\", \"Source\", \"Link\", \"Category\", \"Timestamp\"])\n",
    "news_df.to_csv(\"webscraping_dataset.csv\", index=False, encoding=\"utf-8-sig\")\n",
    "print(f\"News scraping done. Collected {len(news_df)} articles.\")\n",
    "\n"
   ]
  },
  {
   "cell_type": "code",
   "execution_count": null,
   "id": "c1c1a7a6",
   "metadata": {},
   "outputs": [],
   "source": []
  },
  {
   "cell_type": "code",
   "execution_count": null,
   "id": "3d0f1177",
   "metadata": {},
   "outputs": [],
   "source": []
  },
  {
   "cell_type": "code",
   "execution_count": null,
   "id": "92b8b53d",
   "metadata": {},
   "outputs": [],
   "source": []
  },
  {
   "cell_type": "code",
   "execution_count": null,
   "id": "70ab353f",
   "metadata": {},
   "outputs": [],
   "source": []
  },
  {
   "cell_type": "code",
   "execution_count": null,
   "id": "86369411",
   "metadata": {},
   "outputs": [],
   "source": []
  },
  {
   "cell_type": "code",
   "execution_count": null,
   "id": "44fe7851",
   "metadata": {},
   "outputs": [],
   "source": []
  },
  {
   "cell_type": "code",
   "execution_count": null,
   "id": "87a8786f",
   "metadata": {},
   "outputs": [],
   "source": []
  }
 ],
 "metadata": {
  "kernelspec": {
   "display_name": "base",
   "language": "python",
   "name": "python3"
  },
  "language_info": {
   "codemirror_mode": {
    "name": "ipython",
    "version": 3
   },
   "file_extension": ".py",
   "mimetype": "text/x-python",
   "name": "python",
   "nbconvert_exporter": "python",
   "pygments_lexer": "ipython3",
   "version": "3.12.7"
  }
 },
 "nbformat": 4,
 "nbformat_minor": 5
}
